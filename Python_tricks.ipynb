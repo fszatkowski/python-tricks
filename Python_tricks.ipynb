{
  "nbformat": 4,
  "nbformat_minor": 0,
  "metadata": {
    "colab": {
      "name": "Python tricks.ipynb",
      "provenance": [],
      "collapsed_sections": [],
      "toc_visible": true,
      "authorship_tag": "ABX9TyNlQhzQ4HQti1oPQZqkeG5l"
    },
    "kernelspec": {
      "name": "python3",
      "display_name": "Python 3"
    }
  },
  "cells": [
    {
      "cell_type": "markdown",
      "metadata": {
        "id": "ULj6ofQjroXI"
      },
      "source": [
        "## True and False evaluation"
      ]
    },
    {
      "cell_type": "code",
      "metadata": {
        "id": "WFuRYzGLsxVO",
        "outputId": "31553841-0f7b-4749-bf65-102e72920d2d",
        "colab": {
          "base_uri": "https://localhost:8080/",
          "height": 67
        }
      },
      "source": [
        "# None evaluates to False\n",
        "print(bool(True))\n",
        "print(bool(False))\n",
        "print(bool(None))"
      ],
      "execution_count": null,
      "outputs": [
        {
          "output_type": "stream",
          "text": [
            "True\n",
            "False\n",
            "False\n"
          ],
          "name": "stdout"
        }
      ]
    },
    {
      "cell_type": "code",
      "metadata": {
        "id": "NbWgwB_irttb",
        "outputId": "8e2ee800-789a-4782-b108-d2582dfc39c8",
        "colab": {
          "base_uri": "https://localhost:8080/",
          "height": 168
        }
      },
      "source": [
        "# Primitives evaluate to False if equal to 0 or empty, otherwise evaluate to True\n",
        "# Tip / spoiler: use default value of \"\" instead of None for strings (easier for type checker)\n",
        "\n",
        "print(bool(0))\n",
        "print(bool(0.0))\n",
        "print(bool(\"\"))\n",
        "print(bool(1))\n",
        "print(bool(1155))\n",
        "print(bool(-1))\n",
        "print(bool(1.0))\n",
        "print(bool(134.512312312))\n",
        "print(bool(\"qwerty\"))"
      ],
      "execution_count": null,
      "outputs": [
        {
          "output_type": "stream",
          "text": [
            "False\n",
            "False\n",
            "False\n",
            "True\n",
            "True\n",
            "True\n",
            "True\n",
            "True\n",
            "True\n"
          ],
          "name": "stdout"
        }
      ]
    },
    {
      "cell_type": "code",
      "metadata": {
        "id": "_MsUXgA4sged",
        "outputId": "40b026d4-e81d-4b2d-9a64-2f805f30ca76",
        "colab": {
          "base_uri": "https://localhost:8080/",
          "height": 168
        }
      },
      "source": [
        "# Empty containers evaluate to False, non-empty containers evaluate to True\n",
        "\n",
        "print(bool([]))\n",
        "print(bool({}))\n",
        "print(bool(set()))\n",
        "print(bool([True, True]))\n",
        "print(bool([True, False]))\n",
        "print(bool([False, False]))\n",
        "print(bool({0}))\n",
        "print(bool({1, 0}))\n",
        "print(bool({1, 1, 1}))"
      ],
      "execution_count": null,
      "outputs": [
        {
          "output_type": "stream",
          "text": [
            "False\n",
            "False\n",
            "False\n",
            "True\n",
            "True\n",
            "True\n",
            "True\n",
            "True\n",
            "True\n"
          ],
          "name": "stdout"
        }
      ]
    },
    {
      "cell_type": "markdown",
      "metadata": {
        "id": "o8n4h3EokH0f"
      },
      "source": [
        "## Tricks with creating / assigning"
      ]
    },
    {
      "cell_type": "code",
      "metadata": {
        "id": "g2dYZN1P0nro"
      },
      "source": [
        "# Assigning multiple variables in the same line\n",
        "# This expression creates new tuple from the objects on the right\n",
        "# And then unpacks it\n",
        "\n",
        "x, y, z = None, None, None"
      ],
      "execution_count": null,
      "outputs": []
    },
    {
      "cell_type": "code",
      "metadata": {
        "id": "lkb8h8Wq0t2u",
        "outputId": "0d28db9d-7565-4d94-e88e-dd056d5e19bd",
        "colab": {
          "base_uri": "https://localhost:8080/",
          "height": 34
        }
      },
      "source": [
        "# Swapping items works the same way \n",
        "# notice when a, b is called at the end colab prints tuple\n",
        "# and if print is used then it won't\n",
        "\n",
        "a = 1\n",
        "b = 2\n",
        "a, b = b, a\n",
        "a, b"
      ],
      "execution_count": null,
      "outputs": [
        {
          "output_type": "execute_result",
          "data": {
            "text/plain": [
              "(2, 1)"
            ]
          },
          "metadata": {
            "tags": []
          },
          "execution_count": 83
        }
      ]
    },
    {
      "cell_type": "code",
      "metadata": {
        "id": "UxhmPQ_aaDqO",
        "outputId": "80e4409d-dfca-416a-afa1-44dbb09fbfa6",
        "colab": {
          "base_uri": "https://localhost:8080/",
          "height": 34
        }
      },
      "source": [
        "# Set comprehension\n",
        "\n",
        "new_set = {1, 2, 3}\n",
        "print(type(new_set), new_set)"
      ],
      "execution_count": null,
      "outputs": [
        {
          "output_type": "stream",
          "text": [
            "<class 'set'> {1, 2, 3}\n"
          ],
          "name": "stdout"
        }
      ]
    },
    {
      "cell_type": "code",
      "metadata": {
        "id": "7N4arAHEaV_G",
        "outputId": "edba3333-d561-42df-cbc4-a04c739facf0",
        "colab": {
          "base_uri": "https://localhost:8080/",
          "height": 34
        }
      },
      "source": [
        "# Combining dictionaries\n",
        "\n",
        "dict1 = {\"first\": 1, \"second\": 2}\n",
        "dict2 = {\"third\": 3, \"fourth\": 4}\n",
        "print(dict1, dict2)"
      ],
      "execution_count": null,
      "outputs": [
        {
          "output_type": "stream",
          "text": [
            "{'first': 1, 'second': 2} {'third': 3, 'fourth': 4}\n"
          ],
          "name": "stdout"
        }
      ]
    },
    {
      "cell_type": "code",
      "metadata": {
        "id": "RLRirRIMaviR",
        "outputId": "b175086f-fe1b-4ada-d8a3-cdccfe7ee7e3",
        "colab": {
          "base_uri": "https://localhost:8080/",
          "height": 34
        }
      },
      "source": [
        "combined_dict = {**dict1, **dict2}\n",
        "print(combined_dict)"
      ],
      "execution_count": null,
      "outputs": [
        {
          "output_type": "stream",
          "text": [
            "{'first': 1, 'second': 2, 'third': 3, 'fourth': 4}\n"
          ],
          "name": "stdout"
        }
      ]
    },
    {
      "cell_type": "code",
      "metadata": {
        "id": "fk7GFDq0bC8P",
        "outputId": "e96ebf98-318c-42db-cffc-92a922c44e91",
        "colab": {
          "base_uri": "https://localhost:8080/",
          "height": 34
        }
      },
      "source": [
        "# Risk - if there are duplicate keys, the lastest keys prevail\n",
        "\n",
        "dict3 = {\"first\": 3}\n",
        "\n",
        "dict_with_duplicate_keys = {**dict1, **dict3}\n",
        "print(dict_with_duplicate_keys)"
      ],
      "execution_count": null,
      "outputs": [
        {
          "output_type": "stream",
          "text": [
            "{'first': 3, 'second': 2}\n"
          ],
          "name": "stdout"
        }
      ]
    },
    {
      "cell_type": "code",
      "metadata": {
        "id": "60iF1A4DazLy",
        "outputId": "35959f96-b845-4c91-fc69-83170367094c",
        "colab": {
          "base_uri": "https://localhost:8080/",
          "height": 34
        }
      },
      "source": [
        "# Combining tuples\n",
        "\n",
        "tuple1 = (1, 2)\n",
        "tuple2 = (3, 4)\n",
        "\n",
        "print(tuple1, tuple2)"
      ],
      "execution_count": null,
      "outputs": [
        {
          "output_type": "stream",
          "text": [
            "(1, 2) (3, 4)\n"
          ],
          "name": "stdout"
        }
      ]
    },
    {
      "cell_type": "code",
      "metadata": {
        "id": "RIeKhn-LbGX2",
        "outputId": "cc506004-46f7-43eb-ddca-1e8c34ba2400",
        "colab": {
          "base_uri": "https://localhost:8080/",
          "height": 34
        }
      },
      "source": [
        "combined_tuple = (*tuple1, *tuple2)\n",
        "print(combined_tuple)"
      ],
      "execution_count": null,
      "outputs": [
        {
          "output_type": "stream",
          "text": [
            "(1, 2, 3, 4)\n"
          ],
          "name": "stdout"
        }
      ]
    },
    {
      "cell_type": "code",
      "metadata": {
        "id": "aWJK6NejbMdQ",
        "outputId": "0cb192b4-53f1-4387-fca7-0d16967ab449",
        "colab": {
          "base_uri": "https://localhost:8080/",
          "height": 34
        }
      },
      "source": [
        "# Risky\n",
        "\n",
        "badly_combined_tuple = (*tuple1, tuple2)\n",
        "print(badly_combined_tuple)"
      ],
      "execution_count": null,
      "outputs": [
        {
          "output_type": "stream",
          "text": [
            "(1, 2, (3, 4))\n"
          ],
          "name": "stdout"
        }
      ]
    },
    {
      "cell_type": "code",
      "metadata": {
        "id": "Zqh81XvgbXZx"
      },
      "source": [
        "# How to avoid - (spoiler) when using type hints in IDE, this code will be highlighted as potential error\n",
        "\n",
        "from typing import Tuple\n",
        "\n",
        "x: Tuple[int, int, int, int] = (*tuple1, tuple2)"
      ],
      "execution_count": null,
      "outputs": []
    },
    {
      "cell_type": "code",
      "metadata": {
        "id": "psRY_xEgbw8m",
        "outputId": "0627c9bc-682e-4361-c733-1ee64f80f2a8",
        "colab": {
          "base_uri": "https://localhost:8080/",
          "height": 34
        }
      },
      "source": [
        "# Flattening lists\n",
        "\n",
        "nested_list = [[1, 2], [3, 4], [5, 6]]\n",
        "print(nested_list)"
      ],
      "execution_count": null,
      "outputs": [
        {
          "output_type": "stream",
          "text": [
            "[[1, 2], [3, 4], [5, 6]]\n"
          ],
          "name": "stdout"
        }
      ]
    },
    {
      "cell_type": "code",
      "metadata": {
        "id": "9KyGszHPckPi",
        "outputId": "2667c6d5-5cfa-4d41-dd35-9287249e5823",
        "colab": {
          "base_uri": "https://localhost:8080/",
          "height": 34
        }
      },
      "source": [
        "flattened_list = [item for sublist in nested_list for item in sublist]\n",
        "print(flattened_list)"
      ],
      "execution_count": null,
      "outputs": [
        {
          "output_type": "stream",
          "text": [
            "[1, 2, 3, 4, 5, 6]\n"
          ],
          "name": "stdout"
        }
      ]
    },
    {
      "cell_type": "code",
      "metadata": {
        "id": "sYo_OP4tcq6B",
        "outputId": "27c15327-9c11-45ba-ef38-b336c8d15781",
        "colab": {
          "base_uri": "https://localhost:8080/",
          "height": 34
        }
      },
      "source": [
        "# This is equal to implementation with loops\n",
        "\n",
        "another_flattened_list = []\n",
        "for sublist in nested_list:\n",
        "  for item in sublist:\n",
        "    another_flattened_list.append(item)\n",
        "\n",
        "print(another_flattened_list)"
      ],
      "execution_count": null,
      "outputs": [
        {
          "output_type": "stream",
          "text": [
            "[1, 2, 3, 4, 5, 6]\n"
          ],
          "name": "stdout"
        }
      ]
    },
    {
      "cell_type": "code",
      "metadata": {
        "id": "BH_HmcpYdRT4",
        "outputId": "9a6cc752-074d-4e95-e8a3-f304f72cefe6",
        "colab": {
          "base_uri": "https://localhost:8080/",
          "height": 34
        }
      },
      "source": [
        "# When there are another levels of nesting...\n",
        "\n",
        "very_nested_list = [[[1, 2], [3, 4], [5, 6]], [[7, 8], [9, 10], [11, 12]]]\n",
        "\n",
        "# [... for lower in upper: ...]\n",
        "flat_list = [item for sublist in very_nested_list for subsublist in sublist for item in subsublist]\n",
        "\n",
        "print(flat_list)"
      ],
      "execution_count": null,
      "outputs": [
        {
          "output_type": "stream",
          "text": [
            "[1, 2, 3, 4, 5, 6, 7, 8, 9, 10, 11, 12]\n"
          ],
          "name": "stdout"
        }
      ]
    },
    {
      "cell_type": "code",
      "metadata": {
        "id": "Vt2mYYs6JJMY",
        "outputId": "4aff8e84-d223-40c8-9585-505f32ed964d",
        "colab": {
          "base_uri": "https://localhost:8080/"
        }
      },
      "source": [
        "# There is no tuple comprehension = (x for x in ...) creates a generator\n",
        "\n",
        "type((x for x in range(0,100)))"
      ],
      "execution_count": null,
      "outputs": [
        {
          "output_type": "execute_result",
          "data": {
            "text/plain": [
              "generator"
            ]
          },
          "metadata": {
            "tags": []
          },
          "execution_count": 10
        }
      ]
    },
    {
      "cell_type": "markdown",
      "metadata": {
        "id": "j3VzMnFwkRjL"
      },
      "source": [
        "## Mutable and immutable types\n",
        "\n"
      ]
    },
    {
      "cell_type": "code",
      "metadata": {
        "id": "S6FMK_kdkZph",
        "outputId": "5a198f63-88f7-4bb6-ac19-08bde9d09bd8",
        "colab": {
          "base_uri": "https://localhost:8080/",
          "height": 34
        }
      },
      "source": [
        "# Mutable objects can change their \"state\" and can't be used for hashing,\n",
        "# while immutable objects cannot be changed after creation\n",
        "# Immutable types: int, float, str, bool, tuple\n",
        "\n",
        "print(hash(0), hash(1), hash(False), hash(True), hash(None), hash(5), hash(\"qwerty\"), hash(2.146))"
      ],
      "execution_count": null,
      "outputs": [
        {
          "output_type": "stream",
          "text": [
            "0 1 0 1 644152 5 6663169683874736729 336653079345199106\n"
          ],
          "name": "stdout"
        }
      ]
    },
    {
      "cell_type": "code",
      "metadata": {
        "id": "b_VyuWiQlmOx",
        "outputId": "de0f12c9-a5e8-4206-966c-11231fd3abfe",
        "colab": {
          "base_uri": "https://localhost:8080/",
          "height": 34
        }
      },
      "source": [
        "# 0 and False have the same hash value\n",
        "# 1 and True also have the same hash value\n",
        "# Try not to use booleans as dict keys or something wierd might happen\n",
        "\n",
        "hash_dict = {0: 1}\n",
        "hash_dict[False] = 5\n",
        "print(hash_dict)"
      ],
      "execution_count": null,
      "outputs": [
        {
          "output_type": "stream",
          "text": [
            "{0: 5}\n"
          ],
          "name": "stdout"
        }
      ]
    },
    {
      "cell_type": "code",
      "metadata": {
        "id": "KwxdDSHjmHnx",
        "outputId": "0e30dd1f-f6dc-49fe-faeb-bed037ba064c",
        "colab": {
          "base_uri": "https://localhost:8080/",
          "height": 67
        }
      },
      "source": [
        "# Mutable types: list, dict, set can't be hashed\n",
        "\n",
        "try:\n",
        "  hash([1,2,3])\n",
        "except Exception as e:\n",
        "  print(e)\n",
        "\n",
        "try:\n",
        "  hash({1, 3, 6})\n",
        "except Exception as e:\n",
        "  print(e)\n",
        "\n",
        "try:\n",
        "  hash({1: 2})\n",
        "except Exception as e:\n",
        "  print(e)"
      ],
      "execution_count": null,
      "outputs": [
        {
          "output_type": "stream",
          "text": [
            "unhashable type: 'list'\n",
            "unhashable type: 'set'\n",
            "unhashable type: 'dict'\n"
          ],
          "name": "stdout"
        }
      ]
    },
    {
      "cell_type": "code",
      "metadata": {
        "id": "n-alRJ7tmitb",
        "outputId": "dfa464a2-4413-4424-db05-a9fbff4e93b0",
        "colab": {
          "base_uri": "https://localhost:8080/",
          "height": 34
        }
      },
      "source": [
        "# This means they can't be used as dict keys (dict values can be mutable)\n",
        "\n",
        "try:\n",
        "  new_dict = {[1, 2]: 5}\n",
        "except Exception as e:\n",
        "  print(e)"
      ],
      "execution_count": null,
      "outputs": [
        {
          "output_type": "stream",
          "text": [
            "unhashable type: 'list'\n"
          ],
          "name": "stdout"
        }
      ]
    },
    {
      "cell_type": "code",
      "metadata": {
        "id": "oVVbk9JMFNdG",
        "outputId": "ddccd813-79f5-484a-f7e5-e01b2cc68704",
        "colab": {
          "base_uri": "https://localhost:8080/",
          "height": 34
        }
      },
      "source": [
        "# Unhashable objects also can't be added to sets\n",
        "\n",
        "try:\n",
        "  new_set = set()\n",
        "  new_set.add([1, 2])\n",
        "except Exception as e:\n",
        "  print(e)"
      ],
      "execution_count": null,
      "outputs": [
        {
          "output_type": "stream",
          "text": [
            "unhashable type: 'list'\n"
          ],
          "name": "stdout"
        }
      ]
    },
    {
      "cell_type": "code",
      "metadata": {
        "id": "RxBW3XVgFcRg",
        "outputId": "805dfcb0-0647-42d4-b7b7-f95892ac2c1b",
        "colab": {
          "base_uri": "https://localhost:8080/",
          "height": 34
        }
      },
      "source": [
        "# If we need hashable collection, frozenset can be used\n",
        "# This creates immutable set\n",
        "\n",
        "frozen_set = frozenset([1,2,3,4])\n",
        "{frozen_set: \"Hashable\"}"
      ],
      "execution_count": null,
      "outputs": [
        {
          "output_type": "stream",
          "text": [
            "'frozenset' object has no attribute 'add'\n"
          ],
          "name": "stdout"
        }
      ]
    },
    {
      "cell_type": "code",
      "metadata": {
        "id": "FTWB-1JynPYB",
        "outputId": "d0f851dd-e48d-4cc6-bb18-3f3095cd67d4",
        "colab": {
          "base_uri": "https://localhost:8080/",
          "height": 84
        }
      },
      "source": [
        "# Custom classes are by default hashed based on their id, so they can be used as dict keys\n",
        "\n",
        "class CustomClass:\n",
        "  def __init__(self, a, b):\n",
        "    self.a = a\n",
        "    self.b = b\n",
        "\n",
        "  def print(self):\n",
        "    print(self.a, self.b)\n",
        "\n",
        "custom_class = CustomClass([], 16)\n",
        "print(custom_class)\n",
        "custom_class.print()\n",
        "try:\n",
        "  print(hash(custom_class))\n",
        "  new_dict = {custom_class: 15}\n",
        "  print(new_dict)\n",
        "except Exception as e:\n",
        "  print(e)"
      ],
      "execution_count": null,
      "outputs": [
        {
          "output_type": "stream",
          "text": [
            "<__main__.CustomClass object at 0x7fbd30510518>\n",
            "[] 16\n",
            "-9223363258696265647\n",
            "{<__main__.CustomClass object at 0x7fbd30510518>: 15}\n"
          ],
          "name": "stdout"
        }
      ]
    },
    {
      "cell_type": "code",
      "metadata": {
        "id": "nrXrrCo7od1Y",
        "outputId": "d6a5b9a4-30b9-4478-8c70-dcfa3243768b",
        "colab": {
          "base_uri": "https://localhost:8080/",
          "height": 34
        }
      },
      "source": [
        "# Common error related to mutability - mutable default values in functions / methods\n",
        "\n",
        "def append_to_or_create_list(item, list_to_append = []):\n",
        "  list_to_append.append(item)\n",
        "  return list_to_append\n",
        "\n",
        "original_list = [1, 2, 3]\n",
        "extended_list = append_to_or_create_list(4, original_list)\n",
        "print(extended_list)"
      ],
      "execution_count": null,
      "outputs": [
        {
          "output_type": "stream",
          "text": [
            "[1, 2, 3, 4]\n"
          ],
          "name": "stdout"
        }
      ]
    },
    {
      "cell_type": "code",
      "metadata": {
        "id": "t1aScOBvo-Dl",
        "outputId": "33ff7f6d-eade-4151-af56-ab16b0767bc6",
        "colab": {
          "base_uri": "https://localhost:8080/",
          "height": 101
        }
      },
      "source": [
        "# Works as intended when parameter is passed, \n",
        "# but if there is no parameter, default value gets modified\n",
        "# and on each use the same list is returned, so every call modifies all previously obtained lists\n",
        " \n",
        "default_list1 = append_to_or_create_list(0)\n",
        "print(default_list1)\n",
        "default_list2 = append_to_or_create_list(5)\n",
        "print(default_list2)\n",
        "default_list3 = append_to_or_create_list(16)\n",
        "print(default_list3)\n",
        "\n",
        "print(default_list1, default_list2, default_list3)\n",
        "print(id(default_list1), id(default_list2), id(default_list3))"
      ],
      "execution_count": null,
      "outputs": [
        {
          "output_type": "stream",
          "text": [
            "[0]\n",
            "[0, 5]\n",
            "[0, 5, 16]\n",
            "[0, 5, 16] [0, 5, 16] [0, 5, 16]\n",
            "140450536067912 140450536067912 140450536067912\n"
          ],
          "name": "stdout"
        }
      ]
    },
    {
      "cell_type": "code",
      "metadata": {
        "id": "bA2PF6qZrFmX",
        "outputId": "9da8f394-3125-4b34-cc09-621994c43531",
        "colab": {
          "base_uri": "https://localhost:8080/",
          "height": 101
        }
      },
      "source": [
        "# Possible correct solution\n",
        "\n",
        "def fixed_append_to_or_create_list(item, list_to_append = None):\n",
        "  if list_to_append is None:\n",
        "    list_to_append = []\n",
        "  list_to_append.append(item)\n",
        "  return list_to_append\n",
        "\n",
        "default_list1 = fixed_append_to_or_create_list(0)\n",
        "print(default_list1)\n",
        "default_list2 = fixed_append_to_or_create_list(5)\n",
        "print(default_list2)\n",
        "default_list3 = fixed_append_to_or_create_list(16)\n",
        "print(default_list3)\n",
        "\n",
        "print(default_list1, default_list2, default_list3)\n",
        "print(id(default_list1), id(default_list2), id(default_list3))"
      ],
      "execution_count": null,
      "outputs": [
        {
          "output_type": "stream",
          "text": [
            "[0]\n",
            "[5]\n",
            "[16]\n",
            "[0] [5] [16]\n",
            "140450535389064 140450535159304 140450536572360\n"
          ],
          "name": "stdout"
        }
      ]
    },
    {
      "cell_type": "markdown",
      "metadata": {
        "id": "nGXnDwGArOo8"
      },
      "source": [
        "## Deep and shallow copying"
      ]
    },
    {
      "cell_type": "code",
      "metadata": {
        "id": "DU_gCRSCdxFo"
      },
      "source": [
        "# Assume we want to print normalized vector, but we want to keep original one\n",
        "\n",
        "from math import sqrt\n",
        "\n",
        "def normalize_and_print(float_list):\n",
        "  new_list = float_list\n",
        "  sum_of_elements = sqrt(sum([item * item for item in new_list]))\n",
        "  for i in range(len(new_list)):\n",
        "    new_list[i] = new_list[i] / sum_of_elements\n",
        "  print(new_list)"
      ],
      "execution_count": null,
      "outputs": []
    },
    {
      "cell_type": "code",
      "metadata": {
        "id": "lo3f3TNLfbyL",
        "outputId": "a8f457a6-c550-48aa-eca1-0279b7e5fcd1",
        "colab": {
          "base_uri": "https://localhost:8080/",
          "height": 50
        }
      },
      "source": [
        "test_list = [1, 2, 3]\n",
        "normalize_and_print(test_list)\n",
        "print(test_list)"
      ],
      "execution_count": null,
      "outputs": [
        {
          "output_type": "stream",
          "text": [
            "[0.2672612419124244, 0.5345224838248488, 0.8017837257372732]\n",
            "[0.2672612419124244, 0.5345224838248488, 0.8017837257372732]\n"
          ],
          "name": "stdout"
        }
      ]
    },
    {
      "cell_type": "code",
      "metadata": {
        "id": "uytROxz_iAcv"
      },
      "source": [
        "# Function changed the original list, because python variables are pointers to items in memory\n",
        "# When we asssign mutable object (list, set, dict, class with setters) to new variable, \n",
        "# this is in fact the pointer to the same object\n",
        "# This behaviour might be unexpected and cause bugs, so we need to use copy\n",
        "\n",
        "from copy import copy\n",
        "\n",
        "def normalize_and_print_with_copy(float_list):\n",
        "  new_list = copy(float_list)\n",
        "  sum_of_elements = sqrt(sum([item * item for item in new_list]))\n",
        "  for i in range(len(new_list)):\n",
        "    new_list[i] = new_list[i] / sum_of_elements\n",
        "  print(new_list)"
      ],
      "execution_count": null,
      "outputs": []
    },
    {
      "cell_type": "code",
      "metadata": {
        "id": "IuwbRjZZiaVk",
        "outputId": "20fdbcb1-0da1-409a-d78f-78271548d167",
        "colab": {
          "base_uri": "https://localhost:8080/",
          "height": 50
        }
      },
      "source": [
        "test_list = [1, 2, 3]\n",
        "normalize_and_print_with_copy(test_list)\n",
        "print(test_list)"
      ],
      "execution_count": null,
      "outputs": [
        {
          "output_type": "stream",
          "text": [
            "[0.2672612419124244, 0.5345224838248488, 0.8017837257372732]\n",
            "[1, 2, 3]\n"
          ],
          "name": "stdout"
        }
      ]
    },
    {
      "cell_type": "code",
      "metadata": {
        "id": "7ICduQgyfeBT",
        "outputId": "3ddd08dc-572c-4bea-efa6-3fdb72ebd0e8",
        "colab": {
          "base_uri": "https://localhost:8080/",
          "height": 67
        }
      },
      "source": [
        "# If the object consists of multiple mutable elements, we need to use deepcopy\n",
        "\n",
        "from copy import deepcopy\n",
        "\n",
        "original_list = [{\"a\": 1, \"b\": 2}, [1,2,3]]\n",
        "\n",
        "shallow_copy = copy(original_list)\n",
        "deep_copy = deepcopy(original_list)\n",
        "\n",
        "print(original_list)\n",
        "print(shallow_copy)\n",
        "print(deep_copy)"
      ],
      "execution_count": null,
      "outputs": [
        {
          "output_type": "stream",
          "text": [
            "[{'a': 1, 'b': 2}, [1, 2, 3]]\n",
            "[{'a': 1, 'b': 2}, [1, 2, 3]]\n",
            "[{'a': 1, 'b': 2}, [1, 2, 3]]\n"
          ],
          "name": "stdout"
        }
      ]
    },
    {
      "cell_type": "code",
      "metadata": {
        "id": "N9OygunuhENa",
        "outputId": "58f9b464-e6db-42c8-9009-68cf48861516",
        "colab": {
          "base_uri": "https://localhost:8080/",
          "height": 50
        }
      },
      "source": [
        "shallow_copy[0][\"a\"] = 2\n",
        "print(shallow_copy)\n",
        "print(original_list)"
      ],
      "execution_count": null,
      "outputs": [
        {
          "output_type": "stream",
          "text": [
            "[{'a': 2, 'b': 2}, [1, 2, 3]]\n",
            "[{'a': 2, 'b': 2}, [1, 2, 3]]\n"
          ],
          "name": "stdout"
        }
      ]
    },
    {
      "cell_type": "code",
      "metadata": {
        "id": "5zdV51q8hMIL",
        "outputId": "c942fc86-9ac3-45cc-c780-9cf456f9b888",
        "colab": {
          "base_uri": "https://localhost:8080/",
          "height": 50
        }
      },
      "source": [
        "deep_copy[1].append(4)\n",
        "print(deep_copy)\n",
        "print(original_list)"
      ],
      "execution_count": null,
      "outputs": [
        {
          "output_type": "stream",
          "text": [
            "[{'a': 1, 'b': 2}, [1, 2, 3, 4]]\n",
            "[{'a': 2, 'b': 2}, [1, 2, 3]]\n"
          ],
          "name": "stdout"
        }
      ]
    },
    {
      "cell_type": "markdown",
      "metadata": {
        "id": "RaKfiYiKGfBS"
      },
      "source": [
        "## Efficiency"
      ]
    },
    {
      "cell_type": "markdown",
      "metadata": {
        "id": "_ikWOHremTru"
      },
      "source": [
        "### Checking membership"
      ]
    },
    {
      "cell_type": "code",
      "metadata": {
        "id": "R5YPdcORHC1x",
        "outputId": "49fd662f-6900-47d9-ea01-8c2492e870f2",
        "colab": {
          "base_uri": "https://localhost:8080/"
        }
      },
      "source": [
        "# Use tuples when evaluating membership - creating tuples is slightly more effective\n",
        "\n",
        "%timeit \"en\" in [\"de\", \"en\", \"es\", \"fr\", \"it\", \"pt\"]"
      ],
      "execution_count": null,
      "outputs": [
        {
          "output_type": "stream",
          "text": [
            "10000000 loops, best of 3: 37.4 ns per loop\n"
          ],
          "name": "stdout"
        }
      ]
    },
    {
      "cell_type": "code",
      "metadata": {
        "id": "U7ZtWZBEVuqf",
        "outputId": "242d6556-7d49-4fec-fdea-a4d1e9c4d458",
        "colab": {
          "base_uri": "https://localhost:8080/"
        }
      },
      "source": [
        "%timeit \"en\" in {\"de\", \"en\", \"es\", \"fr\", \"it\", \"pt\"}"
      ],
      "execution_count": null,
      "outputs": [
        {
          "output_type": "stream",
          "text": [
            "10000000 loops, best of 3: 37.9 ns per loop\n"
          ],
          "name": "stdout"
        }
      ]
    },
    {
      "cell_type": "code",
      "metadata": {
        "id": "l6GhgdChkDlc",
        "outputId": "f43ceb83-e13e-4dc1-d026-3a230b15a803",
        "colab": {
          "base_uri": "https://localhost:8080/"
        }
      },
      "source": [
        "%timeit \"en\" in (\"de\", \"en\", \"es\", \"fr\", \"it\", \"pt\")"
      ],
      "execution_count": null,
      "outputs": [
        {
          "output_type": "stream",
          "text": [
            "10000000 loops, best of 3: 37.2 ns per loop\n"
          ],
          "name": "stdout"
        }
      ]
    },
    {
      "cell_type": "code",
      "metadata": {
        "id": "1iwTj_BXV_EK"
      },
      "source": [
        "def measure_creation_time():\n",
        "  # Ipython in colab is bugged so we use workaround\n",
        "  # globals are bad, don't do it at home\n",
        "  global n\n",
        "  print(\"Tuple\")\n",
        "  %timeit tuple(range(0,n))\n",
        "  print(\"List\")\n",
        "  %timeit [x for x in range(0,n)]\n",
        "  print(\"Set\")\n",
        "  %timeit {x for x in range(0,n)}"
      ],
      "execution_count": null,
      "outputs": []
    },
    {
      "cell_type": "code",
      "metadata": {
        "id": "B-cfgbAkXExK",
        "outputId": "ea532cd5-7066-49da-f328-340a0cde8f44",
        "colab": {
          "base_uri": "https://localhost:8080/"
        }
      },
      "source": [
        "n = 10\n",
        "measure_creation_time()"
      ],
      "execution_count": null,
      "outputs": [
        {
          "output_type": "stream",
          "text": [
            "Tuple\n",
            "The slowest run took 9.41 times longer than the fastest. This could mean that an intermediate result is being cached.\n",
            "1000000 loops, best of 3: 397 ns per loop\n",
            "List\n",
            "The slowest run took 4.43 times longer than the fastest. This could mean that an intermediate result is being cached.\n",
            "1000000 loops, best of 3: 619 ns per loop\n",
            "Set\n",
            "1000000 loops, best of 3: 691 ns per loop\n"
          ],
          "name": "stdout"
        }
      ]
    },
    {
      "cell_type": "code",
      "metadata": {
        "id": "HYm9I6hFXE2s",
        "outputId": "f006b84c-3eee-490b-e71f-14fdec4002bf",
        "colab": {
          "base_uri": "https://localhost:8080/"
        }
      },
      "source": [
        "n = 1000\n",
        "measure_creation_time()"
      ],
      "execution_count": null,
      "outputs": [
        {
          "output_type": "stream",
          "text": [
            "Tuple\n",
            "100000 loops, best of 3: 14.9 µs per loop\n",
            "List\n",
            "10000 loops, best of 3: 33 µs per loop\n",
            "Set\n",
            "10000 loops, best of 3: 39.8 µs per loop\n"
          ],
          "name": "stdout"
        }
      ]
    },
    {
      "cell_type": "code",
      "metadata": {
        "id": "o0lIi_jPXIsB",
        "outputId": "87c51fe2-9daf-4505-be3f-c4f730af9fc0",
        "colab": {
          "base_uri": "https://localhost:8080/"
        }
      },
      "source": [
        "n = 1000000\n",
        "measure_creation_time()"
      ],
      "execution_count": null,
      "outputs": [
        {
          "output_type": "stream",
          "text": [
            "Tuple\n",
            "10 loops, best of 3: 37.9 ms per loop\n",
            "List\n",
            "10 loops, best of 3: 63 ms per loop\n",
            "Set\n",
            "10 loops, best of 3: 78.8 ms per loop\n"
          ],
          "name": "stdout"
        }
      ]
    },
    {
      "cell_type": "markdown",
      "metadata": {
        "id": "lEyQ23HOmdTo"
      },
      "source": [
        "### Creating mutable objects"
      ]
    },
    {
      "cell_type": "code",
      "metadata": {
        "id": "SroV1cJnIvRD",
        "outputId": "d01df717-b757-43ff-e6aa-f3be856f5e9b",
        "colab": {
          "base_uri": "https://localhost:8080/"
        }
      },
      "source": [
        "# Appending to lists is inefficient as list reserve memory with every 4 items\n",
        "\n",
        "import sys\n",
        "\n",
        "test_list = []\n",
        "print(sys.getsizeof(test_list))\n",
        "i = 1\n",
        "print(sys.getsizeof(i))\n",
        "test_list.append(i)\n",
        "print(sys.getsizeof(test_list))\n",
        "test_list.append(12)\n",
        "print(sys.getsizeof(test_list))"
      ],
      "execution_count": null,
      "outputs": [
        {
          "output_type": "stream",
          "text": [
            "64\n",
            "28\n",
            "96\n",
            "96\n"
          ],
          "name": "stdout"
        }
      ]
    },
    {
      "cell_type": "code",
      "metadata": {
        "id": "kvCMzCL4Jtew",
        "outputId": "c202781c-fffb-4aaf-ea98-0870a8e38532",
        "colab": {
          "base_uri": "https://localhost:8080/"
        }
      },
      "source": [
        "# This is why using list comprehension for creating lists is preferred way\n",
        "\n",
        "%%timeit\n",
        "test_list = []\n",
        "for x in range(0, 10000):\n",
        "  test_list.append(x)"
      ],
      "execution_count": null,
      "outputs": [
        {
          "output_type": "stream",
          "text": [
            "1000 loops, best of 3: 774 µs per loop\n"
          ],
          "name": "stdout"
        }
      ]
    },
    {
      "cell_type": "code",
      "metadata": {
        "id": "pJ-R8vLZKka6",
        "outputId": "813bcfcb-8063-417a-cb00-fc0c691e9b6b",
        "colab": {
          "base_uri": "https://localhost:8080/"
        }
      },
      "source": [
        "%%timeit\n",
        "test_list = [i for i in range(0,10000)]"
      ],
      "execution_count": null,
      "outputs": [
        {
          "output_type": "stream",
          "text": [
            "1000 loops, best of 3: 350 µs per loop\n"
          ],
          "name": "stdout"
        }
      ]
    },
    {
      "cell_type": "markdown",
      "metadata": {
        "id": "Ti7Lxc7Nm0KM"
      },
      "source": [
        "### Map / filter vs iterational and comprehension approach"
      ]
    },
    {
      "cell_type": "code",
      "metadata": {
        "id": "UM7FUhiLKqZ4"
      },
      "source": [
        "# Use map/filter/reduce approach whenever possible\n",
        "\n",
        "calculation = lambda x: (x * x * x) + 2 * (x * x) + 5 * x - 10\n",
        "numbers = range(10000)"
      ],
      "execution_count": null,
      "outputs": []
    },
    {
      "cell_type": "code",
      "metadata": {
        "id": "c4vglsk3nsIL",
        "outputId": "01e6a7e4-eb1c-4659-fdcb-6c5ee901d566",
        "colab": {
          "base_uri": "https://localhost:8080/",
          "height": 34
        }
      },
      "source": [
        "# Compute function for all numbers\n",
        "\n",
        "%%timeit\n",
        "results = []\n",
        "for x in numbers:\n",
        "  results.append(calculation(x))"
      ],
      "execution_count": null,
      "outputs": [
        {
          "output_type": "stream",
          "text": [
            "100 loops, best of 3: 2.93 ms per loop\n"
          ],
          "name": "stdout"
        }
      ]
    },
    {
      "cell_type": "code",
      "metadata": {
        "id": "UityFwPxnnY-",
        "outputId": "d35da435-558b-40db-c800-97f292609e7d",
        "colab": {
          "base_uri": "https://localhost:8080/",
          "height": 34
        }
      },
      "source": [
        "%timeit results = [calculation(x) for x in numbers]"
      ],
      "execution_count": null,
      "outputs": [
        {
          "output_type": "stream",
          "text": [
            "100 loops, best of 3: 2.44 ms per loop\n"
          ],
          "name": "stdout"
        }
      ]
    },
    {
      "cell_type": "code",
      "metadata": {
        "id": "j9NVeL09nOF9",
        "outputId": "744165ad-2eea-40b6-e027-faf9b3aadeab",
        "colab": {
          "base_uri": "https://localhost:8080/",
          "height": 34
        }
      },
      "source": [
        "%timeit results = map(calculation, numbers)"
      ],
      "execution_count": null,
      "outputs": [
        {
          "output_type": "stream",
          "text": [
            "10000000 loops, best of 3: 141 ns per loop\n"
          ],
          "name": "stdout"
        }
      ]
    },
    {
      "cell_type": "code",
      "metadata": {
        "id": "_CpZJ4DGoUqC",
        "outputId": "c7402115-7fa0-425e-c2dd-62265b3cf098",
        "colab": {
          "base_uri": "https://localhost:8080/",
          "height": 34
        }
      },
      "source": [
        "# Downside: returns map, not a list, so if we need to convert it's not really efficient\n",
        "\n",
        "%timeit results = list(map(calculation, numbers))"
      ],
      "execution_count": null,
      "outputs": [
        {
          "output_type": "stream",
          "text": [
            "100 loops, best of 3: 2.4 ms per loop\n"
          ],
          "name": "stdout"
        }
      ]
    },
    {
      "cell_type": "code",
      "metadata": {
        "id": "hgVRepj2n1XX",
        "outputId": "ba31c090-7b75-41c9-c8b5-cf901c6d3103",
        "colab": {
          "base_uri": "https://localhost:8080/",
          "height": 34
        }
      },
      "source": [
        "# Another case: compute only for even numbers\n",
        "\n",
        "%%timeit\n",
        "results = []\n",
        "for x in numbers:\n",
        "  if x % 2 == 0:\n",
        "    results.append(calculation(x))"
      ],
      "execution_count": null,
      "outputs": [
        {
          "output_type": "stream",
          "text": [
            "1000 loops, best of 3: 1.85 ms per loop\n"
          ],
          "name": "stdout"
        }
      ]
    },
    {
      "cell_type": "code",
      "metadata": {
        "id": "8_wZbyNWo9AG",
        "outputId": "cf5d2a73-afc1-400e-b585-f1be9a443d58",
        "colab": {
          "base_uri": "https://localhost:8080/",
          "height": 34
        }
      },
      "source": [
        "# Bonus: try more efficient range creation\n",
        "\n",
        "%%timeit\n",
        "results = []\n",
        "for x in range(0, 10000, 2):\n",
        "  if x % 2 == 0:\n",
        "    results.append(calculation(x))"
      ],
      "execution_count": null,
      "outputs": [
        {
          "output_type": "stream",
          "text": [
            "1000 loops, best of 3: 1.62 ms per loop\n"
          ],
          "name": "stdout"
        }
      ]
    },
    {
      "cell_type": "code",
      "metadata": {
        "id": "BMCbikZ2pX8Q",
        "outputId": "baa93d53-2653-46b3-c3ee-f5c6f2b6bd84",
        "colab": {
          "base_uri": "https://localhost:8080/",
          "height": 34
        }
      },
      "source": [
        "%timeit results = [calculation(x) for x in range(0, 10000, 2)]"
      ],
      "execution_count": null,
      "outputs": [
        {
          "output_type": "stream",
          "text": [
            "1000 loops, best of 3: 1.24 ms per loop\n"
          ],
          "name": "stdout"
        }
      ]
    },
    {
      "cell_type": "code",
      "metadata": {
        "id": "nJ8mqPmSrE0W",
        "outputId": "b28034a5-837b-4c7c-8707-1219bbef7aaf",
        "colab": {
          "base_uri": "https://localhost:8080/",
          "height": 50
        }
      },
      "source": [
        "%timeit results = map(calculation, filter(lambda x: not x % 2, numbers))"
      ],
      "execution_count": null,
      "outputs": [
        {
          "output_type": "stream",
          "text": [
            "The slowest run took 7.90 times longer than the fastest. This could mean that an intermediate result is being cached.\n",
            "1000000 loops, best of 3: 256 ns per loop\n"
          ],
          "name": "stdout"
        }
      ]
    },
    {
      "cell_type": "code",
      "metadata": {
        "id": "XGpJbKpBrRs5",
        "outputId": "8ede6a83-cdaf-4384-83c7-4b019fdec277",
        "colab": {
          "base_uri": "https://localhost:8080/",
          "height": 50
        }
      },
      "source": [
        "# Using range is worse since it has to be converted to something that can be processed in parallel (eg list conversion)\n",
        "\n",
        "%timeit results = map(calculation, range(0, 10000, 2))"
      ],
      "execution_count": null,
      "outputs": [
        {
          "output_type": "stream",
          "text": [
            "The slowest run took 6.74 times longer than the fastest. This could mean that an intermediate result is being cached.\n",
            "1000000 loops, best of 3: 330 ns per loop\n"
          ],
          "name": "stdout"
        }
      ]
    },
    {
      "cell_type": "markdown",
      "metadata": {
        "id": "Qwi5e_2bsKT2"
      },
      "source": [
        "## Indexing and slices"
      ]
    },
    {
      "cell_type": "code",
      "metadata": {
        "id": "lMVzHgc7rydg"
      },
      "source": [
        "# When indexing, defaults evaluate to 0, len(list) and 1\n",
        "numbers = list(range(0,20))"
      ],
      "execution_count": null,
      "outputs": []
    },
    {
      "cell_type": "code",
      "metadata": {
        "id": "D2mqmHKpttFT",
        "outputId": "b093b7a9-4c3a-417f-d451-93e283331305",
        "colab": {
          "base_uri": "https://localhost:8080/",
          "height": 34
        }
      },
      "source": [
        "numbers[None:None:None]"
      ],
      "execution_count": null,
      "outputs": [
        {
          "output_type": "execute_result",
          "data": {
            "text/plain": [
              "[0, 1, 2, 3, 4, 5, 6, 7, 8, 9, 10, 11, 12, 13, 14, 15, 16, 17, 18, 19]"
            ]
          },
          "metadata": {
            "tags": []
          },
          "execution_count": 43
        }
      ]
    },
    {
      "cell_type": "code",
      "metadata": {
        "id": "L_8hApNcsU6q",
        "outputId": "7e2116c9-c64f-4a54-f468-be080b469467",
        "colab": {
          "base_uri": "https://localhost:8080/",
          "height": 34
        }
      },
      "source": [
        "numbers[::2]"
      ],
      "execution_count": null,
      "outputs": [
        {
          "output_type": "execute_result",
          "data": {
            "text/plain": [
              "[0, 2, 4, 6, 8, 10, 12, 14, 16, 18]"
            ]
          },
          "metadata": {
            "tags": []
          },
          "execution_count": 44
        }
      ]
    },
    {
      "cell_type": "code",
      "metadata": {
        "id": "kiFXlnNSsXeU",
        "outputId": "ebbba9fd-b3e0-48d1-968f-0912a67c7809",
        "colab": {
          "base_uri": "https://localhost:8080/",
          "height": 34
        }
      },
      "source": [
        "numbers[2:18:2]"
      ],
      "execution_count": null,
      "outputs": [
        {
          "output_type": "execute_result",
          "data": {
            "text/plain": [
              "[2, 4, 6, 8, 10, 12, 14, 16]"
            ]
          },
          "metadata": {
            "tags": []
          },
          "execution_count": 45
        }
      ]
    },
    {
      "cell_type": "code",
      "metadata": {
        "id": "QWtXBYHksyj7",
        "outputId": "9b80f3a6-5363-4cfd-88e8-385d6533e264",
        "colab": {
          "base_uri": "https://localhost:8080/",
          "height": 34
        }
      },
      "source": [
        "numbers[-5:-1:]"
      ],
      "execution_count": null,
      "outputs": [
        {
          "output_type": "execute_result",
          "data": {
            "text/plain": [
              "[15, 16, 17, 18]"
            ]
          },
          "metadata": {
            "tags": []
          },
          "execution_count": 46
        }
      ]
    },
    {
      "cell_type": "code",
      "metadata": {
        "id": "eugOqneCs2A4",
        "outputId": "29a61eab-e32b-4f3f-9e65-67891f2be08f",
        "colab": {
          "base_uri": "https://localhost:8080/",
          "height": 34
        }
      },
      "source": [
        "# Reverse list\n",
        "\n",
        "numbers[::-1]"
      ],
      "execution_count": null,
      "outputs": [
        {
          "output_type": "execute_result",
          "data": {
            "text/plain": [
              "[19, 18, 17, 16, 15, 14, 13, 12, 11, 10, 9, 8, 7, 6, 5, 4, 3, 2, 1, 0]"
            ]
          },
          "metadata": {
            "tags": []
          },
          "execution_count": 47
        }
      ]
    },
    {
      "cell_type": "code",
      "metadata": {
        "id": "2GKvyQTAs52I",
        "outputId": "74491310-9ba3-4fc3-c04a-7ebc62fc1a3f",
        "colab": {
          "base_uri": "https://localhost:8080/",
          "height": 34
        }
      },
      "source": [
        "# All approaches above can be replicate using slice object\n",
        "\n",
        "numbers[slice(0,None,1)]"
      ],
      "execution_count": null,
      "outputs": [
        {
          "output_type": "execute_result",
          "data": {
            "text/plain": [
              "[0, 1, 2, 3, 4, 5, 6, 7, 8, 9, 10, 11, 12, 13, 14, 15, 16, 17, 18, 19]"
            ]
          },
          "metadata": {
            "tags": []
          },
          "execution_count": 48
        }
      ]
    },
    {
      "cell_type": "code",
      "metadata": {
        "id": "1K864swk2HCS",
        "outputId": "8b763527-24e8-4c9d-bc4e-55fcb2e2efbb",
        "colab": {
          "base_uri": "https://localhost:8080/",
          "height": 35
        }
      },
      "source": [
        "# Most indexing tricks work on strings too\n",
        "\n",
        "ex_text = \"print 123456789\"\n",
        "ex_text[::-1]"
      ],
      "execution_count": null,
      "outputs": [
        {
          "output_type": "execute_result",
          "data": {
            "application/vnd.google.colaboratory.intrinsic+json": {
              "type": "string"
            },
            "text/plain": [
              "'987654321 tnirp'"
            ]
          },
          "metadata": {
            "tags": []
          },
          "execution_count": 84
        }
      ]
    },
    {
      "cell_type": "markdown",
      "metadata": {
        "id": "OZJamyaLwk-e"
      },
      "source": [
        "## del keyword"
      ]
    },
    {
      "cell_type": "code",
      "metadata": {
        "id": "RPt-cgfVwoDN",
        "outputId": "c8db9d49-0a6f-49dc-aa97-86d9c41434c7",
        "colab": {
          "base_uri": "https://localhost:8080/",
          "height": 34
        }
      },
      "source": [
        "# del removes binding (pointer) to object, not an object\n",
        "# objects in python are removed by GC\n",
        "# usually when there are no references to an obeject, GC clears it\n",
        "\n",
        "a = {\"one\":1, \"two\":2}\n",
        "b = a\n",
        "print(id(a), id(a) == id(b))"
      ],
      "execution_count": null,
      "outputs": [
        {
          "output_type": "stream",
          "text": [
            "139790189745856 True\n"
          ],
          "name": "stdout"
        }
      ]
    },
    {
      "cell_type": "code",
      "metadata": {
        "id": "_vfKvL-1xFSf",
        "outputId": "297d7c5a-222d-4bbe-d01f-35199571accd",
        "colab": {
          "base_uri": "https://localhost:8080/",
          "height": 34
        }
      },
      "source": [
        "# del a means that we delete \"binding\" a attached to object and can no longer use it\n",
        "\n",
        "del a\n",
        "try:\n",
        "  print(a)\n",
        "except Exception as e:\n",
        "  print(e)"
      ],
      "execution_count": null,
      "outputs": [
        {
          "output_type": "stream",
          "text": [
            "name 'a' is not defined\n"
          ],
          "name": "stdout"
        }
      ]
    },
    {
      "cell_type": "code",
      "metadata": {
        "id": "bKv78Ad5xGJK",
        "outputId": "021a7351-7ea1-4c7e-db61-69fc8b4a672f",
        "colab": {
          "base_uri": "https://localhost:8080/",
          "height": 34
        }
      },
      "source": [
        "# However, b was not deleted and still exists \n",
        "# and we just checked that a and b refer to the same object\n",
        "\n",
        "b"
      ],
      "execution_count": null,
      "outputs": [
        {
          "output_type": "execute_result",
          "data": {
            "text/plain": [
              "{'one': 1, 'two': 2}"
            ]
          },
          "metadata": {
            "tags": []
          },
          "execution_count": 65
        }
      ]
    },
    {
      "cell_type": "code",
      "metadata": {
        "id": "nY5bvJWXxMn3",
        "outputId": "5b501580-020c-4ed3-8a35-1164df59ed87",
        "colab": {
          "base_uri": "https://localhost:8080/",
          "height": 34
        }
      },
      "source": [
        "# Del can be also used to delete keys from dict\n",
        "\n",
        "del b[\"one\"]\n",
        "b"
      ],
      "execution_count": null,
      "outputs": [
        {
          "output_type": "execute_result",
          "data": {
            "text/plain": [
              "{'two': 2}"
            ]
          },
          "metadata": {
            "tags": []
          },
          "execution_count": 67
        }
      ]
    },
    {
      "cell_type": "code",
      "metadata": {
        "id": "SlL5-anYxwQr",
        "outputId": "461c117a-2dc2-4195-f979-44c856b9736b",
        "colab": {
          "base_uri": "https://localhost:8080/",
          "height": 34
        }
      },
      "source": [
        "# And removing items from list\n",
        "\n",
        "c = [1,2,3,4]\n",
        "del c[2]\n",
        "c"
      ],
      "execution_count": null,
      "outputs": [
        {
          "output_type": "execute_result",
          "data": {
            "text/plain": [
              "[1, 2, 4]"
            ]
          },
          "metadata": {
            "tags": []
          },
          "execution_count": 68
        }
      ]
    },
    {
      "cell_type": "code",
      "metadata": {
        "id": "3YPVmPt6y3IB",
        "outputId": "b2da0f2d-87b5-48f2-f9e2-265ee9f35e22",
        "colab": {
          "base_uri": "https://localhost:8080/",
          "height": 34
        }
      },
      "source": [
        "# Works with slices\n",
        "\n",
        "d = list(range(10))\n",
        "del d[::2]\n",
        "d"
      ],
      "execution_count": null,
      "outputs": [
        {
          "output_type": "execute_result",
          "data": {
            "text/plain": [
              "[1, 3, 5, 7, 9]"
            ]
          },
          "metadata": {
            "tags": []
          },
          "execution_count": 69
        }
      ]
    },
    {
      "cell_type": "code",
      "metadata": {
        "id": "gWY5DIZ9zBJL",
        "outputId": "cdff3025-289d-4e3c-a923-12f91d20ad11",
        "colab": {
          "base_uri": "https://localhost:8080/",
          "height": 34
        }
      },
      "source": [
        "# Works also with classes / functions\n",
        "\n",
        "class ExampleClass:\n",
        "  def __init__(self, x, y):\n",
        "    self.x = x\n",
        "    self.y = y\n",
        "  def __repr__(self):\n",
        "    return f\"ExampleClass(x={self.x}, y={self.y})\"\n",
        "\n",
        "ex = ExampleClass(1, 2)\n",
        "ex"
      ],
      "execution_count": null,
      "outputs": [
        {
          "output_type": "execute_result",
          "data": {
            "text/plain": [
              "ExampleClass(x=1, y=2)"
            ]
          },
          "metadata": {
            "tags": []
          },
          "execution_count": 74
        }
      ]
    },
    {
      "cell_type": "code",
      "metadata": {
        "id": "ikp0yf1qzidB",
        "outputId": "3659b765-7d41-40c4-806d-0cd844226e77",
        "colab": {
          "base_uri": "https://localhost:8080/",
          "height": 34
        }
      },
      "source": [
        "# del class - no longer can create new instances\n",
        "\n",
        "del ExampleClass\n",
        "try:\n",
        "  new_ex = ExampleClass(0,0)\n",
        "except Exception as e:\n",
        "  print(e)"
      ],
      "execution_count": null,
      "outputs": [
        {
          "output_type": "stream",
          "text": [
            "name 'ExampleClass' is not defined\n"
          ],
          "name": "stdout"
        }
      ]
    },
    {
      "cell_type": "code",
      "metadata": {
        "id": "mRkjc_xWznlt",
        "outputId": "e37b53eb-3b3e-4c1f-8c0b-bf5a0b05a46a",
        "colab": {
          "base_uri": "https://localhost:8080/",
          "height": 34
        }
      },
      "source": [
        "# However previously created instances still exists (python is sometimes weird)\n",
        "\n",
        "ex"
      ],
      "execution_count": null,
      "outputs": [
        {
          "output_type": "execute_result",
          "data": {
            "text/plain": [
              "ExampleClass(x=1, y=2)"
            ]
          },
          "metadata": {
            "tags": []
          },
          "execution_count": 77
        }
      ]
    }
  ]
}